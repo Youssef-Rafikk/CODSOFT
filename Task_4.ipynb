{
  "nbformat": 4,
  "nbformat_minor": 0,
  "metadata": {
    "colab": {
      "provenance": [],
      "authorship_tag": "ABX9TyMdY9RVFuH3sIRuA4XR8Pn2",
      "include_colab_link": true
    },
    "kernelspec": {
      "name": "python3",
      "display_name": "Python 3"
    },
    "language_info": {
      "name": "python"
    }
  },
  "cells": [
    {
      "cell_type": "markdown",
      "metadata": {
        "id": "view-in-github",
        "colab_type": "text"
      },
      "source": [
        "<a href=\"https://colab.research.google.com/github/Youssef-Rafikk/CODSOFT/blob/main/Task_4.ipynb\" target=\"_parent\"><img src=\"https://colab.research.google.com/assets/colab-badge.svg\" alt=\"Open In Colab\"/></a>"
      ]
    },
    {
      "cell_type": "code",
      "execution_count": 2,
      "metadata": {
        "colab": {
          "base_uri": "https://localhost:8080/"
        },
        "id": "0lUQHFPnFqTo",
        "outputId": "49e0f735-3819-4ab5-9bcb-897be10686a9"
      },
      "outputs": [
        {
          "output_type": "stream",
          "name": "stdout",
          "text": [
            "      TV  Radio  Newspaper  Sales\n",
            "0  230.1   37.8       69.2   22.1\n",
            "1   44.5   39.3       45.1   10.4\n",
            "2   17.2   45.9       69.3   12.0\n",
            "3  151.5   41.3       58.5   16.5\n",
            "4  180.8   10.8       58.4   17.9\n",
            "Mean Squared Error: 2.9077569102710896\n",
            "Predicted Sales: [19.91399387]\n"
          ]
        }
      ],
      "source": [
        "import pandas as pd\n",
        "from sklearn.model_selection import train_test_split\n",
        "from sklearn.linear_model import LinearRegression\n",
        "from sklearn.metrics import mean_squared_error\n",
        "\n",
        "#-------------------------------------------------------------------------------------------------------------------------------#\n",
        "# Load the dataset from CSV (assuming it's uploaded to Colab)\n",
        "# Replace 'sales_data.csv' with your actual file path if different\n",
        "df = pd.read_csv('/content/advertising.csv')\n",
        "\n",
        "#-------------------------------------------------------------------------------------------------------------------------------#\n",
        "# Display the first few rows to understand the structure\n",
        "print(df.head())\n",
        "\n",
        "#-------------------------------------------------------------------------------------------------------------------------------#\n",
        "# Separate features (X) and target (y)\n",
        "X = df[['TV', 'Radio', 'Newspaper']]\n",
        "y = df['Sales']\n",
        "\n",
        "#-------------------------------------------------------------------------------------------------------------------------------#\n",
        "# Split data into training and test sets\n",
        "X_train, X_test, y_train, y_test = train_test_split(X, y, test_size=0.2, random_state=42)\n",
        "\n",
        "#-------------------------------------------------------------------------------------------------------------------------------#\n",
        "# Initialize the Linear Regression model\n",
        "model = LinearRegression()\n",
        "\n",
        "#-------------------------------------------------------------------------------------------------------------------------------#\n",
        "# Train the model\n",
        "model.fit(X_train, y_train)\n",
        "\n",
        "#-------------------------------------------------------------------------------------------------------------------------------#\n",
        "# Make predictions\n",
        "y_pred = model.predict(X_test)\n",
        "\n",
        "#-------------------------------------------------------------------------------------------------------------------------------#\n",
        "# Evaluate the model\n",
        "mse = mean_squared_error(y_test, y_pred)\n",
        "print(f'Mean Squared Error: {mse}')\n",
        "\n",
        "#-------------------------------------------------------------------------------------------------------------------------------#\n",
        "# Example prediction\n",
        "new_data = pd.DataFrame({'TV': [200], 'Radio': [40], 'Newspaper': [60]})\n",
        "predicted_sales = model.predict(new_data)\n",
        "print(f'Predicted Sales: {predicted_sales}')\n"
      ]
    },
    {
      "cell_type": "code",
      "source": [],
      "metadata": {
        "id": "YoJQQFABGIp-"
      },
      "execution_count": null,
      "outputs": []
    }
  ]
}