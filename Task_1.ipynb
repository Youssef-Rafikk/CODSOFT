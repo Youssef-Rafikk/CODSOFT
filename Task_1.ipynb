{
  "nbformat": 4,
  "nbformat_minor": 0,
  "metadata": {
    "colab": {
      "provenance": [],
      "authorship_tag": "ABX9TyMsHOFOvcsEtQyOrA4zztrn",
      "include_colab_link": true
    },
    "kernelspec": {
      "name": "python3",
      "display_name": "Python 3"
    },
    "language_info": {
      "name": "python"
    }
  },
  "cells": [
    {
      "cell_type": "markdown",
      "metadata": {
        "id": "view-in-github",
        "colab_type": "text"
      },
      "source": [
        "<a href=\"https://colab.research.google.com/github/Youssef-Rafikk/CODSOFT/blob/main/Task_1.ipynb\" target=\"_parent\"><img src=\"https://colab.research.google.com/assets/colab-badge.svg\" alt=\"Open In Colab\"/></a>"
      ]
    },
    {
      "cell_type": "code",
      "source": [
        "import pandas as pd\n",
        "import numpy as np\n",
        "from sklearn.model_selection import train_test_split\n",
        "from sklearn.preprocessing import StandardScaler, OneHotEncoder\n",
        "from sklearn.compose import ColumnTransformer\n",
        "from sklearn.pipeline import Pipeline\n",
        "from sklearn.impute import SimpleImputer\n",
        "from sklearn.ensemble import RandomForestClassifier\n",
        "from sklearn.metrics import accuracy_score, confusion_matrix, classification_report\n",
        "#-------------------------------------------------------------------------------------------------------------------------------#\n",
        "\n",
        "# Load the dataset:\n",
        "df = pd.read_csv('/content/Titanic-Dataset.csv')\n",
        "#-------------------------------------------------------------------------------------------------------------------------------#\n",
        "\n",
        "# Display dataset:\n",
        "print(\"Dataset Information:\")\n",
        "print(df.info())\n",
        "print(\"\\nFirst few rows of the dataset:\")\n",
        "print(df.head())\n",
        "#-------------------------------------------------------------------------------------------------------------------------------#\n",
        "\n",
        "# Define features and target variable:\n",
        "X = df.drop('Survived', axis=1)\n",
        "y = df['Survived']\n",
        "#-------------------------------------------------------------------------------------------------------------------------------#\n",
        "\n",
        "# Preprocess the data:\n",
        "categorical_features = ['Pclass', 'Sex', 'Embarked']\n",
        "numerical_features = ['Age', 'SibSp', 'Parch', 'Fare']\n",
        "\n",
        "# Create preprocessing pipelines:\n",
        "numeric_transformer = Pipeline(steps=[\n",
        "    ('imputer', SimpleImputer(strategy='median')),\n",
        "    ('scaler', StandardScaler())])\n",
        "\n",
        "categorical_transformer = Pipeline(steps=[\n",
        "    ('imputer', SimpleImputer(strategy='most_frequent')),\n",
        "    ('onehot', OneHotEncoder(handle_unknown='ignore'))])\n",
        "#-------------------------------------------------------------------------------------------------------------------------------#\n",
        "\n",
        "# Combine preprocessing:\n",
        "preprocessor = ColumnTransformer(\n",
        "    transformers=[\n",
        "        ('num', numeric_transformer, numerical_features),\n",
        "        ('cat', categorical_transformer, categorical_features)])\n",
        "\n",
        "# Create the model pipeline\n",
        "model = Pipeline(steps=[('preprocessor', preprocessor),\n",
        "                        ('classifier', RandomForestClassifier(random_state=42))])\n",
        "#-------------------------------------------------------------------------------------------------------------------------------#\n",
        "\n",
        "# Split train and test:\n",
        "X_train, X_test, y_train, y_test = train_test_split(X, y, test_size=0.2, random_state=42)\n",
        "\n",
        "# Train the model:\n",
        "model.fit(X_train, y_train)\n",
        "y_pred = model.predict(X_test)\n",
        "#-------------------------------------------------------------------------------------------------------------------------------#\n",
        "\n",
        "# Evaluate the model:\n",
        "accuracy = accuracy_score(y_test, y_pred)\n",
        "conf_matrix = confusion_matrix(y_test, y_pred)\n",
        "class_report = classification_report(y_test, y_pred)\n",
        "\n",
        "print(\"\\nModel Evaluation:\")\n",
        "print(f'Overall Accuracy: {accuracy:.2f}')\n",
        "print('\\nConfusion Matrix:')\n",
        "print(conf_matrix)\n",
        "print('\\nClassification Report:')\n",
        "print(class_report)\n",
        "#-------------------------------------------------------------------------------------------------------------------------------#\n",
        "\n",
        "# Evaluate accuracy for different subgroups | by gender:\n",
        "test_set_with_predictions = X_test.copy()\n",
        "test_set_with_predictions['Survived'] = y_test\n",
        "test_set_with_predictions['Predicted'] = y_pred\n",
        "\n",
        "print(\"\\nAccuracy by Gender:\")\n",
        "for group in test_set_with_predictions['Sex'].unique():\n",
        "    group_data = test_set_with_predictions[test_set_with_predictions['Sex'] == group]\n",
        "    group_accuracy = accuracy_score(group_data['Survived'], group_data['Predicted'])\n",
        "    print(f'Accuracy for {group}: {group_accuracy:.2f}')\n",
        "#-------------------------------------------------------------------------------------------------------------------------------#\n",
        "\n",
        "# Pclass:\n",
        "print(\"\\nAccuracy by Passenger Class:\")\n",
        "for group in test_set_with_predictions['Pclass'].unique():\n",
        "    group_data = test_set_with_predictions[test_set_with_predictions['Pclass'] == group]\n",
        "    group_accuracy = accuracy_score(group_data['Survived'], group_data['Predicted'])\n",
        "    print(f'Accuracy for Pclass {group}: {group_accuracy:.2f}')\n"
      ],
      "metadata": {
        "colab": {
          "base_uri": "https://localhost:8080/"
        },
        "id": "jnGiPdcbYzJC",
        "outputId": "3577052a-8a55-475e-c1d7-e64e82cc19a4"
      },
      "execution_count": 18,
      "outputs": [
        {
          "output_type": "stream",
          "name": "stdout",
          "text": [
            "Dataset Information:\n",
            "<class 'pandas.core.frame.DataFrame'>\n",
            "RangeIndex: 891 entries, 0 to 890\n",
            "Data columns (total 12 columns):\n",
            " #   Column       Non-Null Count  Dtype  \n",
            "---  ------       --------------  -----  \n",
            " 0   PassengerId  891 non-null    int64  \n",
            " 1   Survived     891 non-null    int64  \n",
            " 2   Pclass       891 non-null    int64  \n",
            " 3   Name         891 non-null    object \n",
            " 4   Sex          891 non-null    object \n",
            " 5   Age          714 non-null    float64\n",
            " 6   SibSp        891 non-null    int64  \n",
            " 7   Parch        891 non-null    int64  \n",
            " 8   Ticket       891 non-null    object \n",
            " 9   Fare         891 non-null    float64\n",
            " 10  Cabin        204 non-null    object \n",
            " 11  Embarked     889 non-null    object \n",
            "dtypes: float64(2), int64(5), object(5)\n",
            "memory usage: 83.7+ KB\n",
            "None\n",
            "\n",
            "First few rows of the dataset:\n",
            "   PassengerId  Survived  Pclass  \\\n",
            "0            1         0       3   \n",
            "1            2         1       1   \n",
            "2            3         1       3   \n",
            "3            4         1       1   \n",
            "4            5         0       3   \n",
            "\n",
            "                                                Name     Sex   Age  SibSp  \\\n",
            "0                            Braund, Mr. Owen Harris    male  22.0      1   \n",
            "1  Cumings, Mrs. John Bradley (Florence Briggs Th...  female  38.0      1   \n",
            "2                             Heikkinen, Miss. Laina  female  26.0      0   \n",
            "3       Futrelle, Mrs. Jacques Heath (Lily May Peel)  female  35.0      1   \n",
            "4                           Allen, Mr. William Henry    male  35.0      0   \n",
            "\n",
            "   Parch            Ticket     Fare Cabin Embarked  \n",
            "0      0         A/5 21171   7.2500   NaN        S  \n",
            "1      0          PC 17599  71.2833   C85        C  \n",
            "2      0  STON/O2. 3101282   7.9250   NaN        S  \n",
            "3      0            113803  53.1000  C123        S  \n",
            "4      0            373450   8.0500   NaN        S  \n",
            "\n",
            "Model Evaluation:\n",
            "Overall Accuracy: 0.82\n",
            "\n",
            "Confusion Matrix:\n",
            "[[90 15]\n",
            " [18 56]]\n",
            "\n",
            "Classification Report:\n",
            "              precision    recall  f1-score   support\n",
            "\n",
            "           0       0.83      0.86      0.85       105\n",
            "           1       0.79      0.76      0.77        74\n",
            "\n",
            "    accuracy                           0.82       179\n",
            "   macro avg       0.81      0.81      0.81       179\n",
            "weighted avg       0.81      0.82      0.82       179\n",
            "\n",
            "\n",
            "Accuracy by Gender:\n",
            "Accuracy for male: 0.84\n",
            "Accuracy for female: 0.78\n",
            "\n",
            "Accuracy by Passenger Class:\n",
            "Accuracy for Pclass 3: 0.81\n",
            "Accuracy for Pclass 2: 0.79\n",
            "Accuracy for Pclass 1: 0.85\n"
          ]
        }
      ]
    },
    {
      "cell_type": "code",
      "source": [
        "import matplotlib.pyplot as plt\n",
        "\n",
        "feature_importances = model.named_steps['classifier'].feature_importances_\n",
        "feature_names = preprocessor.transformers_[0][2] + preprocessor.transformers_[1][1].named_steps['onehot'].get_feature_names_out(categorical_features).tolist()\n",
        "\n",
        "importance_df = pd.DataFrame({\n",
        "    'Feature': feature_names,\n",
        "    'Importance': feature_importances\n",
        "}).sort_values(by='Importance', ascending=False)\n",
        "\n",
        "print(\"Feature Importances:\")\n",
        "print(importance_df)\n",
        "\n",
        "plt.figure(figsize=(10, 6))\n",
        "plt.barh(importance_df['Feature'], importance_df['Importance'])\n",
        "plt.xlabel('Importance')\n",
        "plt.ylabel('Feature')\n",
        "plt.title('Feature Importances')\n",
        "plt.gca().invert_yaxis()\n",
        "plt.show()\n"
      ],
      "metadata": {
        "colab": {
          "base_uri": "https://localhost:8080/",
          "height": 807
        },
        "id": "R6tZNr5kY1_S",
        "outputId": "9121a0bf-9d24-4cf5-9aab-1de5d479bc48"
      },
      "execution_count": 17,
      "outputs": [
        {
          "output_type": "stream",
          "name": "stdout",
          "text": [
            "Feature Importances:\n",
            "       Feature  Importance\n",
            "0          Age    0.249814\n",
            "3         Fare    0.246854\n",
            "8     Sex_male    0.144579\n",
            "7   Sex_female    0.141251\n",
            "6     Pclass_3    0.051007\n",
            "1        SibSp    0.048696\n",
            "2        Parch    0.036386\n",
            "4     Pclass_1    0.025770\n",
            "5     Pclass_2    0.019819\n",
            "11  Embarked_S    0.015537\n",
            "9   Embarked_C    0.012449\n",
            "10  Embarked_Q    0.007837\n"
          ]
        },
        {
          "output_type": "display_data",
          "data": {
            "text/plain": [
              "<Figure size 1000x600 with 1 Axes>"
            ],
            "image/png": "[encoded data removed]"
          },
          "metadata": {}
        }
      ]
    },
    {
      "cell_type": "code",
      "source": [],
      "metadata": {
        "id": "bJspt4V_Z8-H"
      },
      "execution_count": null,
      "outputs": []
    }
  ]
}