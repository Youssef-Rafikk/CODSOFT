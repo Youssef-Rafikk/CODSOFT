{
  "nbformat": 4,
  "nbformat_minor": 0,
  "metadata": {
    "colab": {
      "provenance": [],
      "authorship_tag": "ABX9TyNzU1xuLaz4UxukSWSIvpt0",
      "include_colab_link": true
    },
    "kernelspec": {
      "name": "python3",
      "display_name": "Python 3"
    },
    "language_info": {
      "name": "python"
    }
  },
  "cells": [
    {
      "cell_type": "markdown",
      "metadata": {
        "id": "view-in-github",
        "colab_type": "text"
      },
      "source": [
        "<a href=\"https://colab.research.google.com/github/Youssef-Rafikk/CODSOFT/blob/main/Task_5.ipynb\" target=\"_parent\"><img src=\"https://colab.research.google.com/assets/colab-badge.svg\" alt=\"Open In Colab\"/></a>"
      ]
    },
    {
      "cell_type": "code",
      "source": [
        "import numpy as np\n",
        "import pandas as pd\n",
        "from sklearn.model_selection import train_test_split\n",
        "from sklearn.preprocessing import StandardScaler\n",
        "from sklearn.ensemble import RandomForestClassifier\n",
        "from sklearn.metrics import classification_report\n",
        "from imblearn.over_sampling import RandomOverSampler\n",
        "\n",
        "#-------------------------------------------------------------------------------------------------------------------------------#\n",
        "# Load the dataset\n",
        "df = pd.read_csv('/content/creditcard.csv')\n",
        "\n",
        "#-------------------------------------------------------------------------------------------------------------------------------#\n",
        "# Drop any irrelevant columns\n",
        "df = df.drop(['Time', 'Amount'], axis=1)\n",
        "\n",
        "#-------------------------------------------------------------------------------------------------------------------------------#\n",
        "# Drop rows with NaN\n",
        "df = df.dropna(subset=['Class'])\n",
        "\n",
        "#-------------------------------------------------------------------------------------------------------------------------------#\n",
        "# Normalize the data using StandardScaler\n",
        "scaler = StandardScaler()\n",
        "df.iloc[:, :-1] = scaler.fit_transform(df.iloc[:, :-1])\n",
        "\n",
        "#-------------------------------------------------------------------------------------------------------------------------------#\n",
        "# Separate input features and target variable\n",
        "X = df.drop('Class', axis=1)\n",
        "y = df['Class']\n",
        "\n",
        "#-------------------------------------------------------------------------------------------------------------------------------#\n",
        "# Split into training and testing sets\n",
        "X_train, X_test, y_train, y_test = train_test_split(X, y, test_size=0.2, random_state=42)\n",
        "\n",
        "#-------------------------------------------------------------------------------------------------------------------------------#\n",
        "# Apply oversampling\n",
        "oversampler = RandomOverSampler(random_state=42)\n",
        "X_train_resampled, y_train_resampled = oversampler.fit_resample(X_train, y_train)\n",
        "\n",
        "#-------------------------------------------------------------------------------------------------------------------------------#\n",
        "# Initialize and train the model\n",
        "model = RandomForestClassifier(random_state=42)\n",
        "model.fit(X_train_resampled, y_train_resampled)\n",
        "\n",
        "#-------------------------------------------------------------------------------------------------------------------------------#\n",
        "# Predict on the test set\n",
        "y_pred = model.predict(X_test)\n",
        "\n",
        "#-------------------------------------------------------------------------------------------------------------------------------#\n",
        "# Evaluate the model\n",
        "report = classification_report(y_test, y_pred)\n",
        "print(report)\n"
      ],
      "metadata": {
        "colab": {
          "base_uri": "https://localhost:8080/"
        },
        "id": "yvQMhVwaHpAg",
        "outputId": "51fafbb6-a42e-4a9e-c98e-6b5b96e641f7"
      },
      "execution_count": 3,
      "outputs": [
        {
          "output_type": "stream",
          "name": "stdout",
          "text": [
            "              precision    recall  f1-score   support\n",
            "\n",
            "         0.0       1.00      1.00      1.00     13455\n",
            "         1.0       1.00      0.78      0.88        32\n",
            "\n",
            "    accuracy                           1.00     13487\n",
            "   macro avg       1.00      0.89      0.94     13487\n",
            "weighted avg       1.00      1.00      1.00     13487\n",
            "\n"
          ]
        }
      ]
    }
  ]
}