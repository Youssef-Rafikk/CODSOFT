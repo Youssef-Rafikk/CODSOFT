{
  "nbformat": 4,
  "nbformat_minor": 0,
  "metadata": {
    "colab": {
      "provenance": [],
      "authorship_tag": "ABX9TyMpRMO9fycj1RZbb4xmNaHP",
      "include_colab_link": true
    },
    "kernelspec": {
      "name": "python3",
      "display_name": "Python 3"
    },
    "language_info": {
      "name": "python"
    }
  },
  "cells": [
    {
      "cell_type": "markdown",
      "metadata": {
        "id": "view-in-github",
        "colab_type": "text"
      },
      "source": [
        "<a href=\"https://colab.research.google.com/github/Youssef-Rafikk/CODSOFT/blob/main/Task_3.ipynb\" target=\"_parent\"><img src=\"https://colab.research.google.com/assets/colab-badge.svg\" alt=\"Open In Colab\"/></a>"
      ]
    },
    {
      "cell_type": "code",
      "execution_count": 4,
      "metadata": {
        "colab": {
          "base_uri": "https://localhost:8080/"
        },
        "id": "rA3Va616D5jU",
        "outputId": "c66b1912-a075-411c-c59b-7f653eb918ba"
      },
      "outputs": [
        {
          "output_type": "stream",
          "name": "stdout",
          "text": [
            "First few rows of the dataset:\n",
            "   sepal_length  sepal_width  petal_length  petal_width      species\n",
            "0           5.1          3.5           1.4          0.2  Iris-setosa\n",
            "1           4.9          3.0           1.4          0.2  Iris-setosa\n",
            "2           4.7          3.2           1.3          0.2  Iris-setosa\n",
            "3           4.6          3.1           1.5          0.2  Iris-setosa\n",
            "4           5.0          3.6           1.4          0.2  Iris-setosa\n",
            "\n",
            "Accuracy of the K-Nearest Neighbors classifier on test set: 100.00%\n",
            "\n",
            "Classification Report:\n",
            "                 precision    recall  f1-score   support\n",
            "\n",
            "    Iris-setosa       1.00      1.00      1.00        10\n",
            "Iris-versicolor       1.00      1.00      1.00         9\n",
            " Iris-virginica       1.00      1.00      1.00        11\n",
            "\n",
            "       accuracy                           1.00        30\n",
            "      macro avg       1.00      1.00      1.00        30\n",
            "   weighted avg       1.00      1.00      1.00        30\n",
            "\n"
          ]
        }
      ],
      "source": [
        "import pandas as pd\n",
        "from sklearn.model_selection import train_test_split\n",
        "from sklearn.preprocessing import LabelEncoder\n",
        "from sklearn.neighbors import KNeighborsClassifier\n",
        "from sklearn.metrics import classification_report, accuracy_score\n",
        "#-------------------------------------------------------------------------------------------------------------------------------#\n",
        "\n",
        "# Load the dataset:\n",
        "url = '/content/IRIS.csv'\n",
        "df = pd.read_csv(url)\n",
        "#-------------------------------------------------------------------------------------------------------------------------------#\n",
        "\n",
        "# Display the first few rows of the dataset to verify it loaded correctly\n",
        "print(\"First few rows of the dataset:\")\n",
        "print(df.head())\n",
        "\n",
        "#-------------------------------------------------------------------------------------------------------------------------------#\n",
        "# Convert categorical 'species' to numerical labels\n",
        "label_encoder = LabelEncoder()\n",
        "df['species'] = label_encoder.fit_transform(df['species'])\n",
        "\n",
        "#-------------------------------------------------------------------------------------------------------------------------------#\n",
        "# Split data into features and target\n",
        "X = df.drop('species', axis=1)\n",
        "y = df['species']\n",
        "\n",
        "#-------------------------------------------------------------------------------------------------------------------------------#\n",
        "# Split data into training and testing sets\n",
        "X_train, X_test, y_train, y_test = train_test_split(X, y, test_size=0.2, random_state=42)\n",
        "\n",
        "#-------------------------------------------------------------------------------------------------------------------------------#\n",
        "# Initialize the K-Nearest Neighbors classifier\n",
        "knn = KNeighborsClassifier(n_neighbors=3)\n",
        "\n",
        "#-------------------------------------------------------------------------------------------------------------------------------#\n",
        "# Train the model\n",
        "knn.fit(X_train, y_train)\n",
        "\n",
        "#-------------------------------------------------------------------------------------------------------------------------------#\n",
        "# Make predictions on the test data\n",
        "y_pred = knn.predict(X_test)\n",
        "\n",
        "#-------------------------------------------------------------------------------------------------------------------------------#\n",
        "# Evaluate the model\n",
        "accuracy = accuracy_score(y_test, y_pred)\n",
        "print(\"\\nAccuracy of the K-Nearest Neighbors classifier on test set: {:.2f}%\\n\".format(accuracy * 100))\n",
        "\n",
        "#-------------------------------------------------------------------------------------------------------------------------------#\n",
        "# Print classification report\n",
        "print(\"Classification Report:\")\n",
        "print(classification_report(y_test, y_pred, target_names=label_encoder.classes_))\n"
      ]
    },
    {
      "cell_type": "code",
      "source": [],
      "metadata": {
        "id": "hMUrerrCD_3n"
      },
      "execution_count": null,
      "outputs": []
    }
  ]
}