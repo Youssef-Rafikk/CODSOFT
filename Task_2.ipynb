{
  "nbformat": 4,
  "nbformat_minor": 0,
  "metadata": {
    "colab": {
      "provenance": [],
      "include_colab_link": true
    },
    "kernelspec": {
      "name": "python3",
      "display_name": "Python 3"
    },
    "language_info": {
      "name": "python"
    }
  },
  "cells": [
    {
      "cell_type": "markdown",
      "metadata": {
        "id": "view-in-github",
        "colab_type": "text"
      },
      "source": [
        "<a href=\"https://colab.research.google.com/github/Youssef-Rafikk/CODSOFT/blob/main/Task_2.ipynb\" target=\"_parent\"><img src=\"https://colab.research.google.com/assets/colab-badge.svg\" alt=\"Open In Colab\"/></a>"
      ]
    },
    {
      "cell_type": "code",
      "source": [
        "import pandas as pd\n",
        "import numpy as np\n",
        "from sklearn.model_selection import train_test_split\n",
        "from sklearn.preprocessing import LabelEncoder, StandardScaler\n",
        "from sklearn.linear_model import LinearRegression\n",
        "from sklearn.metrics import mean_squared_error\n",
        "\n",
        "#-------------------------------------------------------------------------------------------------------------------------------#\n",
        "# Load the data with specified encoding\n",
        "file_path = '/content/IMDb Movies India.csv'  # Update this path to your file path\n",
        "df = pd.read_csv(file_path, encoding='latin1')  # Try 'latin1' or 'cp1252' if 'utf-8' fails\n",
        "\n",
        "#-------------------------------------------------------------------------------------------------------------------------------#\n",
        "# Display the first few rows of the dataframe\n",
        "print(df.head())\n",
        "\n",
        "#-------------------------------------------------------------------------------------------------------------------------------#\n",
        "# Preprocess the data\n",
        "# Handle missing values\n",
        "df = df.dropna()\n",
        "\n",
        "#-------------------------------------------------------------------------------------------------------------------------------#\n",
        "# Clean the 'Year' column\n",
        "df['Year'] = df['Year'].str.extract('(\\d+)').astype(int)\n",
        "\n",
        "#-------------------------------------------------------------------------------------------------------------------------------#\n",
        "# Convert 'Duration' to numerical value (in minutes)\n",
        "df['Duration'] = df['Duration'].str.replace(' min', '').astype(int)\n",
        "\n",
        "#-------------------------------------------------------------------------------------------------------------------------------#\n",
        "# Convert categorical variables to numerical using Label Encoding\n",
        "label_encoders = {}\n",
        "for column in ['Genre', 'Director', 'Actor 1', 'Actor 2', 'Actor 3']:\n",
        "    le = LabelEncoder()\n",
        "    df[column] = le.fit_transform(df[column])\n",
        "    label_encoders[column] = le\n",
        "\n",
        "#-------------------------------------------------------------------------------------------------------------------------------#\n",
        "# Define features (X) and target (y)\n",
        "X = df[['Year', 'Duration', 'Genre', 'Director', 'Actor 1', 'Actor 2', 'Actor 3']]\n",
        "y = df['Rating']\n",
        "\n",
        "#-------------------------------------------------------------------------------------------------------------------------------#\n",
        "# Split the data into training and testing sets\n",
        "X_train, X_test, y_train, y_test = train_test_split(X, y, test_size=0.2, random_state=42)\n",
        "\n",
        "#-------------------------------------------------------------------------------------------------------------------------------#\n",
        "# Standardize the features\n",
        "scaler = StandardScaler()\n",
        "X_train = scaler.fit_transform(X_train)\n",
        "X_test = scaler.transform(X_test)\n",
        "\n",
        "#-------------------------------------------------------------------------------------------------------------------------------#\n",
        "# Train a Linear Regression model\n",
        "model = LinearRegression()\n",
        "model.fit(X_train, y_train)\n",
        "\n",
        "#-------------------------------------------------------------------------------------------------------------------------------#\n",
        "# Make predictions\n",
        "y_pred = model.predict(X_test)\n",
        "\n",
        "#-------------------------------------------------------------------------------------------------------------------------------#\n",
        "# Evaluate the model\n",
        "mse = mean_squared_error(y_test, y_pred)\n",
        "rmse = np.sqrt(mse)\n",
        "\n",
        "print(f'Root Mean Squared Error: {rmse}')\n",
        "\n",
        "#-------------------------------------------------------------------------------------------------------------------------------#\n",
        "# Save the model and encoders\n",
        "import pickle\n",
        "\n",
        "with open('movie_rating_model.pkl', 'wb') as file:\n",
        "    pickle.dump(model, file)\n",
        "\n",
        "with open('label_encoders.pkl', 'wb') as file:\n",
        "    pickle.dump(label_encoders, file)\n",
        "\n",
        "with open('scaler.pkl', 'wb') as file:\n",
        "    pickle.dump(scaler, file)\n"
      ],
      "metadata": {
        "colab": {
          "base_uri": "https://localhost:8080/"
        },
        "id": "NpALqXNDBBdu",
        "outputId": "a29ed7c5-455e-4c80-93d3-916bccea2202"
      },
      "execution_count": 2,
      "outputs": [
        {
          "output_type": "stream",
          "name": "stdout",
          "text": [
            "                                 Name    Year Duration            Genre  \\\n",
            "0                                         NaN      NaN            Drama   \n",
            "1  #Gadhvi (He thought he was Gandhi)  (2019)  109 min            Drama   \n",
            "2                         #Homecoming  (2021)   90 min   Drama, Musical   \n",
            "3                             #Yaaram  (2019)  110 min  Comedy, Romance   \n",
            "4                   ...And Once Again  (2010)  105 min            Drama   \n",
            "\n",
            "   Rating Votes            Director       Actor 1             Actor 2  \\\n",
            "0     NaN   NaN       J.S. Randhawa      Manmauji              Birbal   \n",
            "1     7.0     8       Gaurav Bakshi  Rasika Dugal      Vivek Ghamande   \n",
            "2     NaN   NaN  Soumyajit Majumdar  Sayani Gupta   Plabita Borthakur   \n",
            "3     4.4    35          Ovais Khan       Prateik          Ishita Raj   \n",
            "4     NaN   NaN        Amol Palekar  Rajat Kapoor  Rituparna Sengupta   \n",
            "\n",
            "           Actor 3  \n",
            "0  Rajendra Bhatia  \n",
            "1    Arvind Jangid  \n",
            "2       Roy Angana  \n",
            "3  Siddhant Kapoor  \n",
            "4      Antara Mali  \n",
            "Root Mean Squared Error: 1.3249998602809987\n"
          ]
        },
        {
          "output_type": "stream",
          "name": "stderr",
          "text": [
            "<ipython-input-2-2fb998c5e9ad>:24: SettingWithCopyWarning: \n",
            "A value is trying to be set on a copy of a slice from a DataFrame.\n",
            "Try using .loc[row_indexer,col_indexer] = value instead\n",
            "\n",
            "See the caveats in the documentation: https://pandas.pydata.org/pandas-docs/stable/user_guide/indexing.html#returning-a-view-versus-a-copy\n",
            "  df['Year'] = df['Year'].str.extract('(\\d+)').astype(int)\n",
            "<ipython-input-2-2fb998c5e9ad>:28: SettingWithCopyWarning: \n",
            "A value is trying to be set on a copy of a slice from a DataFrame.\n",
            "Try using .loc[row_indexer,col_indexer] = value instead\n",
            "\n",
            "See the caveats in the documentation: https://pandas.pydata.org/pandas-docs/stable/user_guide/indexing.html#returning-a-view-versus-a-copy\n",
            "  df['Duration'] = df['Duration'].str.replace(' min', '').astype(int)\n",
            "<ipython-input-2-2fb998c5e9ad>:35: SettingWithCopyWarning: \n",
            "A value is trying to be set on a copy of a slice from a DataFrame.\n",
            "Try using .loc[row_indexer,col_indexer] = value instead\n",
            "\n",
            "See the caveats in the documentation: https://pandas.pydata.org/pandas-docs/stable/user_guide/indexing.html#returning-a-view-versus-a-copy\n",
            "  df[column] = le.fit_transform(df[column])\n",
            "<ipython-input-2-2fb998c5e9ad>:35: SettingWithCopyWarning: \n",
            "A value is trying to be set on a copy of a slice from a DataFrame.\n",
            "Try using .loc[row_indexer,col_indexer] = value instead\n",
            "\n",
            "See the caveats in the documentation: https://pandas.pydata.org/pandas-docs/stable/user_guide/indexing.html#returning-a-view-versus-a-copy\n",
            "  df[column] = le.fit_transform(df[column])\n",
            "<ipython-input-2-2fb998c5e9ad>:35: SettingWithCopyWarning: \n",
            "A value is trying to be set on a copy of a slice from a DataFrame.\n",
            "Try using .loc[row_indexer,col_indexer] = value instead\n",
            "\n",
            "See the caveats in the documentation: https://pandas.pydata.org/pandas-docs/stable/user_guide/indexing.html#returning-a-view-versus-a-copy\n",
            "  df[column] = le.fit_transform(df[column])\n",
            "<ipython-input-2-2fb998c5e9ad>:35: SettingWithCopyWarning: \n",
            "A value is trying to be set on a copy of a slice from a DataFrame.\n",
            "Try using .loc[row_indexer,col_indexer] = value instead\n",
            "\n",
            "See the caveats in the documentation: https://pandas.pydata.org/pandas-docs/stable/user_guide/indexing.html#returning-a-view-versus-a-copy\n",
            "  df[column] = le.fit_transform(df[column])\n",
            "<ipython-input-2-2fb998c5e9ad>:35: SettingWithCopyWarning: \n",
            "A value is trying to be set on a copy of a slice from a DataFrame.\n",
            "Try using .loc[row_indexer,col_indexer] = value instead\n",
            "\n",
            "See the caveats in the documentation: https://pandas.pydata.org/pandas-docs/stable/user_guide/indexing.html#returning-a-view-versus-a-copy\n",
            "  df[column] = le.fit_transform(df[column])\n"
          ]
        }
      ]
    },
    {
      "cell_type": "code",
      "source": [],
      "metadata": {
        "id": "Dj8lx9ZqCJjx"
      },
      "execution_count": null,
      "outputs": []
    }
  ]
}